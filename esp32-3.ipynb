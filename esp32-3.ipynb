{
 "cells": [
  {
   "cell_type": "markdown",
   "id": "prepared-witch",
   "metadata": {},
   "source": [
    " https://null-byte.wonderhowto.com/how-to/control-electronics-from-browser-using-micropython-jupyter-notebook-0236726/\n",
    " \n",
    "https://null-byte.wonderhowto.com/how-to/control-electronics-from-browser-using-micropython-jupyter-notebook-0236726/\n",
    "\n",
    "https://micropython.org/download/ \n",
    "\n",
    "https://micropython.org/download/esp32/ \n",
    "\n",
    "https://docs.espressif.com/projects/esptool/en/latest/esp32/ \n",
    "\n",
    "```\n",
    "$ ls -l /dev/ttyUSB* OR $ dmesg | grep tty\n",
    "\n",
    "/dev/ttyUSB0 \n",
    "\n",
    "$ pip install esptool\n",
    "$ esptool.py --chip esp32 --port /dev/ttyUSB0 erase_flash \n",
    "$ esptool.py --chip esp32 --port /dev/ttyUSB0 --baud 460800 write_flash -z 0x1000 esp32-20220618-v1.19.1.bin \n",
    "$ conda install -c conda-forge micropython \n",
    "https://github.com/goatchurchprime/jupyter_micropython_kernel \n",
    "$ pip install jupyter_micropython_kernel\n",
    "$ python -m jupyter_micropython_kernel.install\n",
    "\n",
    "$ jupyter notebook \n",
    "\n",
    "> New > MicroPython-USB \n",
    "NB: Not New>Python 3\n",
    "\n",
    "%serialconnect to --port=/dev/ttyUSB0 --baud=115200\n",
    "```\n"
   ]
  },
  {
   "cell_type": "code",
   "execution_count": 2,
   "id": "closed-pixel",
   "metadata": {},
   "outputs": [
    {
     "name": "stdout",
     "output_type": "stream",
     "text": [
      "\u001b[34mConnecting to --port=/dev/ttyUSB0 --baud=115200 \u001b[0m\n",
      "\u001b[34mReady.\n",
      "\u001b[0m"
     ]
    }
   ],
   "source": [
    "%serialconnect to --port=/dev/ttyUSB0 --baud=115200"
   ]
  },
  {
   "cell_type": "code",
   "execution_count": 3,
   "id": "arranged-apple",
   "metadata": {},
   "outputs": [],
   "source": [
    "from machine import Pin\n",
    "# from time import sleep\n",
    "import time\n",
    "import machine "
   ]
  },
  {
   "cell_type": "code",
   "execution_count": 4,
   "id": "second-diagram",
   "metadata": {},
   "outputs": [],
   "source": [
    "led = machine.Pin(0, machine.Pin.OUT)"
   ]
  },
  {
   "cell_type": "code",
   "execution_count": 11,
   "id": "signed-bracelet",
   "metadata": {},
   "outputs": [],
   "source": [
    "pin = machine.Pin(19, machine.Pin.OUT)"
   ]
  },
  {
   "cell_type": "code",
   "execution_count": 6,
   "id": "beautiful-encounter",
   "metadata": {},
   "outputs": [
    {
     "name": "stdout",
     "output_type": "stream",
     "text": [
      "."
     ]
    }
   ],
   "source": [
    "for i in range(10):\n",
    "    led.on()\n",
    "    time.sleep(0.5)\n",
    "    led.off()\n",
    "    time.sleep(0.5)"
   ]
  },
  {
   "cell_type": "code",
   "execution_count": 34,
   "id": "occupied-familiar",
   "metadata": {},
   "outputs": [
    {
     "name": "stdout",
     "output_type": "stream",
     "text": [
      "start\n",
      "1\n",
      "2\n",
      "3\n",
      "4\n",
      "5\n",
      "6\n",
      "7\n",
      "8\n",
      "9\n",
      ".10\n",
      "end\n"
     ]
    }
   ],
   "source": [
    "count = 0\n",
    "print(\"start\")\n",
    "for i in range(10):\n",
    "    pin.on()\n",
    "    time.sleep(0.5)\n",
    "    pin.off()\n",
    "    time.sleep(0.5)\n",
    "    count += 1\n",
    "    print(count)\n",
    "print(\"end\")"
   ]
  },
  {
   "cell_type": "code",
   "execution_count": 23,
   "id": "brazilian-corps",
   "metadata": {},
   "outputs": [
    {
     "name": "stdout",
     "output_type": "stream",
     "text": [
      "..................................................................................................................................................................................................................................................................................................................................\u001b[34m\n",
      "\n",
      "*** Sending Ctrl-C\n",
      "\n",
      "\u001b[0m"
     ]
    },
    {
     "name": "stderr",
     "output_type": "stream",
     "text": [
      "Traceback (most recent call last):\n",
      "  File \"<stdin>\", line 3, in <module>\n",
      "KeyboardInterrupt: \n"
     ]
    }
   ],
   "source": [
    "while True:\n",
    "    pin.on()\n",
    "    time.sleep(0.5)\n",
    "    pin.off()\n",
    "    time.sleep(0.5)"
   ]
  },
  {
   "cell_type": "markdown",
   "id": "present-funeral",
   "metadata": {},
   "source": [
    "https://randomnerdtutorials.com/esp32-esp8266-micropython-web-server/ \n",
    "\n",
    "https://pythonforundergradengineers.com/upload-py-files-to-esp8266-running-micropython.html \n",
    "\n"
   ]
  },
  {
   "cell_type": "code",
   "execution_count": 25,
   "id": "matched-blues",
   "metadata": {},
   "outputs": [
    {
     "name": "stderr",
     "output_type": "stream",
     "text": [
      "Traceback (most recent call last):\n",
      "  File \"<stdin>\", line 1\n",
      "SyntaxError: invalid syntax\n"
     ]
    }
   ],
   "source": [
    "!pwd"
   ]
  },
  {
   "cell_type": "code",
   "execution_count": null,
   "id": "generous-quick",
   "metadata": {},
   "outputs": [],
   "source": []
  }
 ],
 "metadata": {
  "kernelspec": {
   "display_name": "MicroPython - USB",
   "language": "micropython",
   "name": "micropython"
  },
  "language_info": {
   "codemirror_mode": "python",
   "file_extension": ".py",
   "mimetype": "text/python",
   "name": "micropython"
  }
 },
 "nbformat": 4,
 "nbformat_minor": 5
}
